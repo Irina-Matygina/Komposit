{
 "cells": [
  {
   "cell_type": "markdown",
   "id": "a71e061c",
   "metadata": {},
   "source": [
    "Импортируем необходимые библиотеки для нашего приложения"
   ]
  },
  {
   "cell_type": "code",
   "execution_count": 12,
   "id": "b2e9d375",
   "metadata": {},
   "outputs": [
    {
     "name": "stdout",
     "output_type": "stream",
     "text": [
      " * Serving Flask app \"__main__\" (lazy loading)\n",
      " * Environment: production\n",
      "\u001b[31m   WARNING: This is a development server. Do not use it in a production deployment.\u001b[0m\n",
      "\u001b[2m   Use a production WSGI server instead.\u001b[0m\n",
      " * Debug mode: off\n"
     ]
    },
    {
     "name": "stderr",
     "output_type": "stream",
     "text": [
      " * Running on http://127.0.0.1:5000/ (Press CTRL+C to quit)\n",
      "127.0.0.1 - - [22/Apr/2023 14:19:18] \"GET / HTTP/1.1\" 200 -\n"
     ]
    },
    {
     "name": "stdout",
     "output_type": "stream",
     "text": [
      "1/1 [==============================] - 0s 464ms/step\n"
     ]
    },
    {
     "name": "stderr",
     "output_type": "stream",
     "text": [
      "127.0.0.1 - - [22/Apr/2023 14:20:14] \"POST / HTTP/1.1\" 200 -\n"
     ]
    }
   ],
   "source": [
    "import flask\n",
    "from flask import render_template\n",
    "import pickle\n",
    "import sklearn\n",
    "from sklearn.linear_model import LinearRegression\n",
    "\n",
    "app = flask.Flask(__name__, template_folder = 'templates')\n",
    "\n",
    "@app.route('/', methods = ['POST', 'GET'])\n",
    "\n",
    "@app.route('/index', methods = ['POST', 'GET'])\n",
    "\n",
    "def main():\n",
    "    if flask.request.method == 'GET':\n",
    "        return render_template('main.html')\n",
    "    \n",
    "    if flask.request.method == 'POST':\n",
    "        with open('my_model1.pkl', 'rb') as f:\n",
    "            loaded_model = pickle.load(f)\n",
    "\n",
    "        angle = int(flask.request.form['angle'])\n",
    "        step = float(flask.request.form['step'])\n",
    "        density = float(flask.request.form['density'])\n",
    "        elasticity_module = float(flask.request.form['elasticity_module'])\n",
    "        hardener_quantity = float(flask.request.form['hardener_quantity'])\n",
    "        epoxy_group = float(flask.request.form['epoxy_group'])\n",
    "        temperature = float(flask.request.form['temperature'])\n",
    "        surface_density = float(flask.request.form['surface_density'])      \n",
    "        elasticity_module2 = float(flask.request.form['elasticity_module2'])\n",
    "        tensile_strength = float(flask.request.form['tensile_strength'])\n",
    "        resin_consumption = float(flask.request.form['resin_consumption'])\n",
    "        patch_density = float(flask.request.form['patch_density'])\n",
    "\n",
    "        y_pred = loaded_model.predict([[angle, step, patch_density, density, elasticity_module, hardener_quantity, epoxy_group, temperature,\n",
    "                                        surface_density, elasticity_module2, tensile_strength, resin_consumption]])\n",
    "        \n",
    "        return render_template('main.html', result = y_pred)\n",
    "\n",
    " \n",
    "app.run()  "
   ]
  },
  {
   "cell_type": "code",
   "execution_count": null,
   "id": "82964f25",
   "metadata": {},
   "outputs": [],
   "source": []
  }
 ],
 "metadata": {
  "kernelspec": {
   "display_name": "Python 3 (ipykernel)",
   "language": "python",
   "name": "python3"
  },
  "language_info": {
   "codemirror_mode": {
    "name": "ipython",
    "version": 3
   },
   "file_extension": ".py",
   "mimetype": "text/x-python",
   "name": "python",
   "nbconvert_exporter": "python",
   "pygments_lexer": "ipython3",
   "version": "3.9.12"
  }
 },
 "nbformat": 4,
 "nbformat_minor": 5
}
